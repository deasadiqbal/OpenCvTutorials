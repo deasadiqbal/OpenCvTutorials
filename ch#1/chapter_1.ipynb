{
 "cells": [
  {
   "cell_type": "code",
   "execution_count": 2,
   "metadata": {},
   "outputs": [],
   "source": [
    "import numpy as np\n",
    "import os\n",
    "import cv2"
   ]
  },
  {
   "cell_type": "markdown",
   "metadata": {},
   "source": [
    "### Converting between an image and raw bytes"
   ]
  },
  {
   "cell_type": "code",
   "execution_count": 5,
   "metadata": {},
   "outputs": [
    {
     "data": {
      "text/plain": [
       "True"
      ]
     },
     "execution_count": 5,
     "metadata": {},
     "output_type": "execute_result"
    }
   ],
   "source": [
    "image = cv2.imread('test.jpg', cv2.IMREAD_GRAYSCALE)\n",
    "cv2.imwrite('gray_img.png', image)"
   ]
  },
  {
   "cell_type": "code",
   "execution_count": 3,
   "metadata": {},
   "outputs": [
    {
     "data": {
      "text/plain": [
       "True"
      ]
     },
     "execution_count": 3,
     "metadata": {},
     "output_type": "execute_result"
    }
   ],
   "source": [
    "randomByte = bytearray(os.urandom(120000))\n",
    "flatArray = np.array(randomByte)\n",
    "\n",
    "#grayImage\n",
    "grayImage = flatArray.reshape(300, 400)\n",
    "cv2.imwrite(\"grayImage.png\", grayImage)\n",
    "\n",
    "#Color image\n",
    "colorImage = flatArray.reshape(100, 400, 3)\n",
    "cv2.imwrite('colorImage.png', colorImage) "
   ]
  },
  {
   "cell_type": "markdown",
   "metadata": {},
   "source": [
    "### Reading/Writing a video file"
   ]
  },
  {
   "cell_type": "code",
   "execution_count": 6,
   "metadata": {},
   "outputs": [],
   "source": [
    "import cv2\n",
    "\n",
    "\n",
    "video_capture = cv2.VideoCapture('testVideo.mp4')\n",
    "fps = video_capture.get(cv2.CAP_PROP_FPS)\n",
    "width = video_capture.get(cv2.CAP_PROP_FRAME_WIDTH)\n",
    "height = video_capture.get(cv2.CAP_PROP_FRAME_HEIGHT)\n",
    "size = (int(width), int(height))\n",
    "\n",
    "fourcc = cv2.VideoWriter_fourcc(*'XVID') \n",
    "video_writer = cv2.VideoWriter('my_video.avi', fourcc, fps, size)\n",
    "\n",
    "rat, frame = video_capture.read()\n",
    "while rat:\n",
    "    video_writer.write(frame)\n",
    "    rat, frame = video_capture.read()\n",
    "\n",
    "video_capture.release()\n",
    "video_writer.release()\n"
   ]
  },
  {
   "cell_type": "code",
   "execution_count": 3,
   "metadata": {},
   "outputs": [],
   "source": [
    "import cv2\n",
    "\n",
    "clicked = False\n",
    "\n",
    "def onMouse(event, x, y, flags, params):\n",
    "    global clicked\n",
    "    if event == cv2.EVENT_LBUTTONUP:\n",
    "        clicked = True\n",
    "\n",
    "cap_camera = cv2.VideoCapture(0)\n",
    "cv2.namedWindow('MyWindow')\n",
    "cv2.setMouseCallback('MyWindow', onMouse)\n",
    "\n",
    "rat, frame = cap_camera.read()\n",
    "while rat and cv2.waitKey(1) == -1 and not clicked:\n",
    "    cv2.imshow('MyWindow', frame)\n",
    "    rat, frame = cap_camera.read()\n",
    "\n",
    "cap_camera.release()\n",
    "cv2.destroyAllWindows()\n"
   ]
  },
  {
   "cell_type": "code",
   "execution_count": null,
   "metadata": {},
   "outputs": [],
   "source": []
  }
 ],
 "metadata": {
  "kernelspec": {
   "display_name": "Python 3",
   "language": "python",
   "name": "python3"
  },
  "language_info": {
   "codemirror_mode": {
    "name": "ipython",
    "version": 3
   },
   "file_extension": ".py",
   "mimetype": "text/x-python",
   "name": "python",
   "nbconvert_exporter": "python",
   "pygments_lexer": "ipython3",
   "version": "3.12.3"
  }
 },
 "nbformat": 4,
 "nbformat_minor": 2
}
