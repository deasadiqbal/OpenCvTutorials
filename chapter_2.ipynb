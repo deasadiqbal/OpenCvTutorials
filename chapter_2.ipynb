{
 "cells": [
  {
   "cell_type": "code",
   "execution_count": 6,
   "metadata": {},
   "outputs": [],
   "source": [
    "import numpy as np\n",
    "import cv2\n",
    "from scipy import ndimage\n",
    "\n",
    "kernel_3_by_3 = np.array([[-1, -1, -1],\n",
    "                          [-1, 8, -1],\n",
    "                          [-1, -1, -1]])\n",
    "\n",
    "kernel_5_by_5 = np.array([[-1, -1, -1, -1, -1],\n",
    "                         [-1, 1, 2, 1, -1],\n",
    "                         [-1, 2, 4, 2, -1],\n",
    "                         [-1, 1, 2, 1, -1],\n",
    "                         [-1, -1, -1, -1, -1]])\n",
    "image = cv2.imread('test.jpg', 0)\n",
    "# img = image.resize(512, 512)\n",
    "\n",
    "k3 = ndimage.convolve(image, kernel_3_by_3)\n",
    "k5 = ndimage.convolve(image, kernel_5_by_5)\n",
    "blured_image = cv2.GaussianBlur(image, (17, 17), 0)\n",
    "hpf = image - blured_image\n",
    "\n",
    "cv2.imshow(\"3x3\", k3)\n",
    "cv2.imshow(\"5x5\", k5)\n",
    "cv2.imshow(\"blurred\", blured_image)\n",
    "cv2.imshow(\"g_hpf\", hpf)\n",
    "cv2.waitKey()\n",
    "cv2.destroyAllWindows()"
   ]
  },
  {
   "cell_type": "code",
   "execution_count": null,
   "metadata": {},
   "outputs": [],
   "source": []
  }
 ],
 "metadata": {
  "kernelspec": {
   "display_name": "Python 3",
   "language": "python",
   "name": "python3"
  },
  "language_info": {
   "codemirror_mode": {
    "name": "ipython",
    "version": 3
   },
   "file_extension": ".py",
   "mimetype": "text/x-python",
   "name": "python",
   "nbconvert_exporter": "python",
   "pygments_lexer": "ipython3",
   "version": "3.12.3"
  }
 },
 "nbformat": 4,
 "nbformat_minor": 2
}
